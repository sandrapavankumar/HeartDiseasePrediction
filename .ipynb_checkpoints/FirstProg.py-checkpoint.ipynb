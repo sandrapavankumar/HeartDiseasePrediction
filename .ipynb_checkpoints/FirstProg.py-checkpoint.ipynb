{
 "cells": [
  {
   "cell_type": "code",
   "execution_count": 1,
   "metadata": {},
   "outputs": [],
   "source": [
    "import numpy as np\n",
    "from urllib.request import urlopen\n",
    "import urllib\n",
    "import matplotlib.pyplot as plt # Visuals\n",
    "import seaborn as sns \n",
    "import sklearn as skl\n",
    "import pandas as pd\n"
   ]
  },
  {
   "cell_type": "code",
   "execution_count": 2,
   "metadata": {},
   "outputs": [
    {
     "name": "stderr",
     "output_type": "stream",
     "text": [
      "C:\\Users\\sandr\\Anaconda3\\lib\\site-packages\\sklearn\\cross_validation.py:41: DeprecationWarning: This module was deprecated in version 0.18 in favor of the model_selection module into which all the refactored classes and functions are moved. Also note that the interface of the new CV iterators are different from that of this module. This module will be removed in 0.20.\n",
      "  \"This module will be removed in 0.20.\", DeprecationWarning)\n"
     ]
    }
   ],
   "source": [
    "from sklearn.cross_validation import train_test_split # Create training and test sets\n",
    "from sklearn.neighbors import KNeighborsClassifier # Kth Nearest Neighbor\n",
    "from sklearn.tree import DecisionTreeClassifier # Decision Trees\n",
    "from sklearn.tree import export_graphviz # Extract Decision Tree visual\n",
    "from sklearn.tree import tree \n",
    "from sklearn.ensemble import RandomForestClassifier # Random Forest\n",
    "from sklearn import svm #SVM\n",
    "from sklearn.metrics import roc_curve # ROC Curves\n",
    "from sklearn.metrics import auc # AUC \n",
    "from sklearn.model_selection import KFold, cross_val_score #cross validation \n",
    "from sklearn import cross_validation  #cross validation \n",
    "from urllib.request import urlopen # Get data from UCI Machine Learning Repository"
   ]
  },
  {
   "cell_type": "code",
   "execution_count": 3,
   "metadata": {},
   "outputs": [],
   "source": [
    "import plotly\n",
    "import plotly.graph_objs as go\n",
    "import plotly.plotly as py\n",
    "import plotly.tools as pt\n",
    "plt.style.use('ggplot')"
   ]
  },
  {
   "cell_type": "code",
   "execution_count": 4,
   "metadata": {},
   "outputs": [],
   "source": [
    "Cleveland_data_URL = 'http://archive.ics.uci.edu/ml/machine-learning-databases/heart-disease/processed.hungarian.data'\n",
    "Hungarian_data_URL = 'http://archive.ics.uci.edu/ml/machine-learning-databases/heart-disease/processed.hungarian.data'\n",
    "Switzerland_data_URL = 'http://archive.ics.uci.edu/ml/machine-learning-databases/heart-disease/processed.switzerland.data'\n",
    "np.set_printoptions(threshold=np.nan) #see a whole array when we output it\n"
   ]
  },
  {
   "cell_type": "code",
   "execution_count": 6,
   "metadata": {},
   "outputs": [
    {
     "data": {
      "text/html": [
       "<div>\n",
       "<style scoped>\n",
       "    .dataframe tbody tr th:only-of-type {\n",
       "        vertical-align: middle;\n",
       "    }\n",
       "\n",
       "    .dataframe tbody tr th {\n",
       "        vertical-align: top;\n",
       "    }\n",
       "\n",
       "    .dataframe thead th {\n",
       "        text-align: right;\n",
       "    }\n",
       "</style>\n",
       "<table border=\"1\" class=\"dataframe\">\n",
       "  <thead>\n",
       "    <tr style=\"text-align: right;\">\n",
       "      <th></th>\n",
       "      <th>age</th>\n",
       "      <th>sex</th>\n",
       "      <th>cp</th>\n",
       "      <th>trestbps</th>\n",
       "      <th>chol</th>\n",
       "      <th>fbs</th>\n",
       "      <th>restecg</th>\n",
       "      <th>thalach</th>\n",
       "      <th>exang</th>\n",
       "      <th>oldpeak</th>\n",
       "      <th>slope</th>\n",
       "      <th>ca</th>\n",
       "      <th>thal</th>\n",
       "      <th>heartdisease</th>\n",
       "    </tr>\n",
       "  </thead>\n",
       "  <tbody>\n",
       "    <tr>\n",
       "      <th>0</th>\n",
       "      <td>28</td>\n",
       "      <td>1</td>\n",
       "      <td>2</td>\n",
       "      <td>130</td>\n",
       "      <td>132</td>\n",
       "      <td>0</td>\n",
       "      <td>2</td>\n",
       "      <td>185</td>\n",
       "      <td>0</td>\n",
       "      <td>0</td>\n",
       "      <td>?</td>\n",
       "      <td>?</td>\n",
       "      <td>?</td>\n",
       "      <td>0</td>\n",
       "    </tr>\n",
       "    <tr>\n",
       "      <th>1</th>\n",
       "      <td>29</td>\n",
       "      <td>1</td>\n",
       "      <td>2</td>\n",
       "      <td>120</td>\n",
       "      <td>243</td>\n",
       "      <td>0</td>\n",
       "      <td>0</td>\n",
       "      <td>160</td>\n",
       "      <td>0</td>\n",
       "      <td>0</td>\n",
       "      <td>?</td>\n",
       "      <td>?</td>\n",
       "      <td>?</td>\n",
       "      <td>0</td>\n",
       "    </tr>\n",
       "    <tr>\n",
       "      <th>2</th>\n",
       "      <td>29</td>\n",
       "      <td>1</td>\n",
       "      <td>2</td>\n",
       "      <td>140</td>\n",
       "      <td>?</td>\n",
       "      <td>0</td>\n",
       "      <td>0</td>\n",
       "      <td>170</td>\n",
       "      <td>0</td>\n",
       "      <td>0</td>\n",
       "      <td>?</td>\n",
       "      <td>?</td>\n",
       "      <td>?</td>\n",
       "      <td>0</td>\n",
       "    </tr>\n",
       "    <tr>\n",
       "      <th>3</th>\n",
       "      <td>30</td>\n",
       "      <td>0</td>\n",
       "      <td>1</td>\n",
       "      <td>170</td>\n",
       "      <td>237</td>\n",
       "      <td>0</td>\n",
       "      <td>1</td>\n",
       "      <td>170</td>\n",
       "      <td>0</td>\n",
       "      <td>0</td>\n",
       "      <td>?</td>\n",
       "      <td>?</td>\n",
       "      <td>6</td>\n",
       "      <td>0</td>\n",
       "    </tr>\n",
       "    <tr>\n",
       "      <th>4</th>\n",
       "      <td>31</td>\n",
       "      <td>0</td>\n",
       "      <td>2</td>\n",
       "      <td>100</td>\n",
       "      <td>219</td>\n",
       "      <td>0</td>\n",
       "      <td>1</td>\n",
       "      <td>150</td>\n",
       "      <td>0</td>\n",
       "      <td>0</td>\n",
       "      <td>?</td>\n",
       "      <td>?</td>\n",
       "      <td>?</td>\n",
       "      <td>0</td>\n",
       "    </tr>\n",
       "  </tbody>\n",
       "</table>\n",
       "</div>"
      ],
      "text/plain": [
       "   age  sex  cp trestbps chol fbs restecg thalach exang oldpeak slope ca thal  \\\n",
       "0   28    1   2      130  132   0       2     185     0       0     ?  ?    ?   \n",
       "1   29    1   2      120  243   0       0     160     0       0     ?  ?    ?   \n",
       "2   29    1   2      140    ?   0       0     170     0       0     ?  ?    ?   \n",
       "3   30    0   1      170  237   0       1     170     0       0     ?  ?    6   \n",
       "4   31    0   2      100  219   0       1     150     0       0     ?  ?    ?   \n",
       "\n",
       "   heartdisease  \n",
       "0             0  \n",
       "1             0  \n",
       "2             0  \n",
       "3             0  \n",
       "4             0  "
      ]
     },
     "execution_count": 6,
     "metadata": {},
     "output_type": "execute_result"
    }
   ],
   "source": [
    "names = ['age', 'sex', 'cp', 'trestbps', 'chol', 'fbs', 'restecg', 'thalach', 'exang', 'oldpeak', 'slope', 'ca', 'thal', 'heartdisease']\n",
    "\n",
    "\n",
    "\n",
    "ClevelandHeartDisease = pd.read_csv(urlopen(Cleveland_data_URL), names = names) #gets Cleveland data\n",
    "HungarianHeartDisease = pd.read_csv(urlopen(Hungarian_data_URL), names = names) #gets Hungary data\n",
    "SwitzerlandHeartDisease = pd.read_csv(urlopen(Switzerland_data_URL), names = names) #gets Switzerland data\n",
    "datatemp = [ClevelandHeartDisease, HungarianHeartDisease, SwitzerlandHeartDisease] #combines all arrays into a list\n",
    "\n",
    "heartDisease = pd.concat(datatemp)#combines list into one array\n",
    "heartDisease.head()"
   ]
  },
  {
   "cell_type": "code",
   "execution_count": 7,
   "metadata": {},
   "outputs": [],
   "source": [
    "Cleveland_data_URL = 'http://archive.ics.uci.edu/ml/machine-learning-databases/heart-disease/processed.hungarian.data'\n",
    "Hungarian_data_URL = 'http://archive.ics.uci.edu/ml/machine-learning-databases/heart-disease/processed.hungarian.data'\n",
    "Switzerland_data_URL = 'http://archive.ics.uci.edu/ml/machine-learning-databases/heart-disease/processed.switzerland.data'\n",
    "np.set_printoptions(threshold=np.nan) #see a whole array when we output it"
   ]
  },
  {
   "cell_type": "code",
   "execution_count": 8,
   "metadata": {},
   "outputs": [
    {
     "data": {
      "text/html": [
       "<div>\n",
       "<style scoped>\n",
       "    .dataframe tbody tr th:only-of-type {\n",
       "        vertical-align: middle;\n",
       "    }\n",
       "\n",
       "    .dataframe tbody tr th {\n",
       "        vertical-align: top;\n",
       "    }\n",
       "\n",
       "    .dataframe thead th {\n",
       "        text-align: right;\n",
       "    }\n",
       "</style>\n",
       "<table border=\"1\" class=\"dataframe\">\n",
       "  <thead>\n",
       "    <tr style=\"text-align: right;\">\n",
       "      <th></th>\n",
       "      <th>age</th>\n",
       "      <th>sex</th>\n",
       "      <th>cp</th>\n",
       "      <th>trestbps</th>\n",
       "      <th>chol</th>\n",
       "      <th>fbs</th>\n",
       "      <th>restecg</th>\n",
       "      <th>thalach</th>\n",
       "      <th>exang</th>\n",
       "      <th>oldpeak</th>\n",
       "      <th>slope</th>\n",
       "      <th>ca</th>\n",
       "      <th>thal</th>\n",
       "      <th>heartdisease</th>\n",
       "    </tr>\n",
       "  </thead>\n",
       "  <tbody>\n",
       "    <tr>\n",
       "      <th>0</th>\n",
       "      <td>28</td>\n",
       "      <td>1</td>\n",
       "      <td>2</td>\n",
       "      <td>130</td>\n",
       "      <td>132</td>\n",
       "      <td>0</td>\n",
       "      <td>2</td>\n",
       "      <td>185</td>\n",
       "      <td>0</td>\n",
       "      <td>0</td>\n",
       "      <td>?</td>\n",
       "      <td>?</td>\n",
       "      <td>?</td>\n",
       "      <td>0</td>\n",
       "    </tr>\n",
       "    <tr>\n",
       "      <th>1</th>\n",
       "      <td>29</td>\n",
       "      <td>1</td>\n",
       "      <td>2</td>\n",
       "      <td>120</td>\n",
       "      <td>243</td>\n",
       "      <td>0</td>\n",
       "      <td>0</td>\n",
       "      <td>160</td>\n",
       "      <td>0</td>\n",
       "      <td>0</td>\n",
       "      <td>?</td>\n",
       "      <td>?</td>\n",
       "      <td>?</td>\n",
       "      <td>0</td>\n",
       "    </tr>\n",
       "    <tr>\n",
       "      <th>2</th>\n",
       "      <td>29</td>\n",
       "      <td>1</td>\n",
       "      <td>2</td>\n",
       "      <td>140</td>\n",
       "      <td>?</td>\n",
       "      <td>0</td>\n",
       "      <td>0</td>\n",
       "      <td>170</td>\n",
       "      <td>0</td>\n",
       "      <td>0</td>\n",
       "      <td>?</td>\n",
       "      <td>?</td>\n",
       "      <td>?</td>\n",
       "      <td>0</td>\n",
       "    </tr>\n",
       "    <tr>\n",
       "      <th>3</th>\n",
       "      <td>30</td>\n",
       "      <td>0</td>\n",
       "      <td>1</td>\n",
       "      <td>170</td>\n",
       "      <td>237</td>\n",
       "      <td>0</td>\n",
       "      <td>1</td>\n",
       "      <td>170</td>\n",
       "      <td>0</td>\n",
       "      <td>0</td>\n",
       "      <td>?</td>\n",
       "      <td>?</td>\n",
       "      <td>6</td>\n",
       "      <td>0</td>\n",
       "    </tr>\n",
       "    <tr>\n",
       "      <th>4</th>\n",
       "      <td>31</td>\n",
       "      <td>0</td>\n",
       "      <td>2</td>\n",
       "      <td>100</td>\n",
       "      <td>219</td>\n",
       "      <td>0</td>\n",
       "      <td>1</td>\n",
       "      <td>150</td>\n",
       "      <td>0</td>\n",
       "      <td>0</td>\n",
       "      <td>?</td>\n",
       "      <td>?</td>\n",
       "      <td>?</td>\n",
       "      <td>0</td>\n",
       "    </tr>\n",
       "  </tbody>\n",
       "</table>\n",
       "</div>"
      ],
      "text/plain": [
       "   age  sex  cp trestbps chol fbs restecg thalach exang oldpeak slope ca thal  \\\n",
       "0   28    1   2      130  132   0       2     185     0       0     ?  ?    ?   \n",
       "1   29    1   2      120  243   0       0     160     0       0     ?  ?    ?   \n",
       "2   29    1   2      140    ?   0       0     170     0       0     ?  ?    ?   \n",
       "3   30    0   1      170  237   0       1     170     0       0     ?  ?    6   \n",
       "4   31    0   2      100  219   0       1     150     0       0     ?  ?    ?   \n",
       "\n",
       "   heartdisease  \n",
       "0             0  \n",
       "1             0  \n",
       "2             0  \n",
       "3             0  \n",
       "4             0  "
      ]
     },
     "execution_count": 8,
     "metadata": {},
     "output_type": "execute_result"
    }
   ],
   "source": [
    "names = ['age', 'sex', 'cp', 'trestbps', 'chol', 'fbs', 'restecg', 'thalach', 'exang', 'oldpeak', 'slope', 'ca', 'thal', 'heartdisease']\n",
    "ClevelandHeartDisease = pd.read_csv(urlopen(Cleveland_data_URL), names = names) #gets Cleveland data\n",
    "HungarianHeartDisease = pd.read_csv(urlopen(Hungarian_data_URL), names = names) #gets Hungary data\n",
    "SwitzerlandHeartDisease = pd.read_csv(urlopen(Switzerland_data_URL), names = names) #gets Switzerland data\n",
    "datatemp = [ClevelandHeartDisease, HungarianHeartDisease, SwitzerlandHeartDisease] #combines all arrays into a list\n",
    "\n",
    "heartDisease = pd.concat(datatemp)#combines list into one array\n",
    "heartDisease.head()"
   ]
  },
  {
   "cell_type": "code",
   "execution_count": 9,
   "metadata": {},
   "outputs": [
    {
     "data": {
      "text/plain": [
       "age              int64\n",
       "sex              int64\n",
       "cp               int64\n",
       "trestbps        object\n",
       "chol            object\n",
       "fbs             object\n",
       "restecg         object\n",
       "thalach         object\n",
       "exang           object\n",
       "oldpeak         object\n",
       "heartdisease     int64\n",
       "dtype: object"
      ]
     },
     "execution_count": 9,
     "metadata": {},
     "output_type": "execute_result"
    }
   ],
   "source": [
    "del heartDisease['ca']\n",
    "del heartDisease['slope']\n",
    "del heartDisease['thal']\n",
    "\n",
    "heartDisease = heartDisease.replace('?', np.nan)\n",
    "heartDisease.dtypes\n"
   ]
  },
  {
   "cell_type": "code",
   "execution_count": 10,
   "metadata": {},
   "outputs": [],
   "source": [
    "#loop to count the \"?\" per variable. More for interpretation. \n",
    "\n",
    "count = 0\n",
    "for item in heartDisease:\n",
    "    for i in heartDisease[item]:\n",
    "        count += (i == '?')"
   ]
  },
  {
   "cell_type": "code",
   "execution_count": 11,
   "metadata": {},
   "outputs": [
    {
     "name": "stdout",
     "output_type": "stream",
     "text": [
      "The percentage of level 0 in the response variable is: 0.14\n",
      "The percentage of level 1 in the response variable is: 0.14\n",
      "The percentage of level 2 in the response variable is: 0.14\n",
      "The percentage of level 3 in the response variable is: 0.14\n",
      "The percentage of level 4 in the response variable is: 0.14\n",
      "The percentage of level 5 in the response variable is: 0.14\n"
     ]
    }
   ],
   "source": [
    "def classImbalance(item):\n",
    "    item_0 = 0\n",
    "    item_1 = 0\n",
    "    item_2 = 0\n",
    "    item_3 = 0\n",
    "    item_4 = 0\n",
    "    item_5 = 0\n",
    "    for item_i in heartDisease[item]:\n",
    "        for i in range(0,6):\n",
    "            if (item == i):\n",
    "                item_i +=1\n",
    "    heartDisease_i = 0\n",
    "    for i in  range (0,6):\n",
    "        heartDisease_i = (item_i/len(heartDisease)) * 100\n",
    "        print(\"The percentage of level\", i, \"in the response variable is: {0:.2f}\".format(heartDisease_i)) \n",
    "\n",
    "classImbalance('heartdisease')"
   ]
  },
  {
   "cell_type": "code",
   "execution_count": 13,
   "metadata": {},
   "outputs": [
    {
     "data": {
      "text/html": [
       "<div>\n",
       "<style scoped>\n",
       "    .dataframe tbody tr th:only-of-type {\n",
       "        vertical-align: middle;\n",
       "    }\n",
       "\n",
       "    .dataframe tbody tr th {\n",
       "        vertical-align: top;\n",
       "    }\n",
       "\n",
       "    .dataframe thead th {\n",
       "        text-align: right;\n",
       "    }\n",
       "</style>\n",
       "<table border=\"1\" class=\"dataframe\">\n",
       "  <thead>\n",
       "    <tr style=\"text-align: right;\">\n",
       "      <th></th>\n",
       "      <th>age</th>\n",
       "      <th>sex</th>\n",
       "      <th>cp</th>\n",
       "      <th>trestbps</th>\n",
       "      <th>chol</th>\n",
       "      <th>fbs</th>\n",
       "      <th>restecg</th>\n",
       "      <th>thalach</th>\n",
       "      <th>exang</th>\n",
       "      <th>oldpeak</th>\n",
       "      <th>heartdisease</th>\n",
       "    </tr>\n",
       "  </thead>\n",
       "  <tbody>\n",
       "    <tr>\n",
       "      <th>0</th>\n",
       "      <td>0.000000</td>\n",
       "      <td>1</td>\n",
       "      <td>0.333333</td>\n",
       "      <td>0.416667</td>\n",
       "      <td>0.218905</td>\n",
       "      <td>0.0</td>\n",
       "      <td>2.0</td>\n",
       "      <td>0.961538</td>\n",
       "      <td>0.0</td>\n",
       "      <td>0.342105</td>\n",
       "      <td>0</td>\n",
       "    </tr>\n",
       "    <tr>\n",
       "      <th>1</th>\n",
       "      <td>0.021739</td>\n",
       "      <td>1</td>\n",
       "      <td>0.333333</td>\n",
       "      <td>0.333333</td>\n",
       "      <td>0.402985</td>\n",
       "      <td>0.0</td>\n",
       "      <td>0.0</td>\n",
       "      <td>0.769231</td>\n",
       "      <td>0.0</td>\n",
       "      <td>0.342105</td>\n",
       "      <td>0</td>\n",
       "    </tr>\n",
       "    <tr>\n",
       "      <th>3</th>\n",
       "      <td>0.043478</td>\n",
       "      <td>0</td>\n",
       "      <td>0.000000</td>\n",
       "      <td>0.750000</td>\n",
       "      <td>0.393035</td>\n",
       "      <td>0.0</td>\n",
       "      <td>1.0</td>\n",
       "      <td>0.846154</td>\n",
       "      <td>0.0</td>\n",
       "      <td>0.342105</td>\n",
       "      <td>0</td>\n",
       "    </tr>\n",
       "    <tr>\n",
       "      <th>4</th>\n",
       "      <td>0.065217</td>\n",
       "      <td>0</td>\n",
       "      <td>0.333333</td>\n",
       "      <td>0.166667</td>\n",
       "      <td>0.363184</td>\n",
       "      <td>0.0</td>\n",
       "      <td>1.0</td>\n",
       "      <td>0.692308</td>\n",
       "      <td>0.0</td>\n",
       "      <td>0.342105</td>\n",
       "      <td>0</td>\n",
       "    </tr>\n",
       "    <tr>\n",
       "      <th>5</th>\n",
       "      <td>0.086957</td>\n",
       "      <td>0</td>\n",
       "      <td>0.333333</td>\n",
       "      <td>0.208333</td>\n",
       "      <td>0.328358</td>\n",
       "      <td>0.0</td>\n",
       "      <td>0.0</td>\n",
       "      <td>0.807692</td>\n",
       "      <td>0.0</td>\n",
       "      <td>0.342105</td>\n",
       "      <td>0</td>\n",
       "    </tr>\n",
       "  </tbody>\n",
       "</table>\n",
       "</div>"
      ],
      "text/plain": [
       "        age  sex        cp  trestbps      chol  fbs  restecg   thalach  exang  \\\n",
       "0  0.000000    1  0.333333  0.416667  0.218905  0.0      2.0  0.961538    0.0   \n",
       "1  0.021739    1  0.333333  0.333333  0.402985  0.0      0.0  0.769231    0.0   \n",
       "3  0.043478    0  0.000000  0.750000  0.393035  0.0      1.0  0.846154    0.0   \n",
       "4  0.065217    0  0.333333  0.166667  0.363184  0.0      1.0  0.692308    0.0   \n",
       "5  0.086957    0  0.333333  0.208333  0.328358  0.0      0.0  0.807692    0.0   \n",
       "\n",
       "    oldpeak  heartdisease  \n",
       "0  0.342105             0  \n",
       "1  0.342105             0  \n",
       "3  0.342105             0  \n",
       "4  0.342105             0  \n",
       "5  0.342105             0  "
      ]
     },
     "execution_count": 13,
     "metadata": {},
     "output_type": "execute_result"
    }
   ],
   "source": [
    "for item in heartDisease: #converts everything to floats\n",
    "    heartDisease[item] = pd.to_numeric(heartDisease[item])\n",
    "\n",
    "def normalize(heartDisease, toNormalize): #normalizes \n",
    "    result = heartDisease.copy()\n",
    "    for item in heartDisease.columns:\n",
    "        if (item in toNormalize):\n",
    "            max_value = heartDisease[item].max()\n",
    "            min_value = heartDisease[item].min()\n",
    "            result[item] = (heartDisease[item] - min_value) / (max_value - min_value)\n",
    "    return result\n",
    "toNormalize = ['age', 'cp', 'trestbps', 'chol', 'thalach', 'oldpeak'] #columns to normalize\n",
    "heartDisease = normalize(heartDisease, toNormalize)\n",
    "heartDisease = heartDisease.dropna()\n",
    "heartDisease.head()"
   ]
  },
  {
   "cell_type": "code",
   "execution_count": 15,
   "metadata": {},
   "outputs": [],
   "source": [
    "for i in range(1,5):\n",
    "    heartDisease['heartdisease'] = heartDisease['heartdisease'].replace(i,1)\n",
    "    "
   ]
  },
  {
   "cell_type": "code",
   "execution_count": 18,
   "metadata": {},
   "outputs": [],
   "source": [
    "train, test = train_test_split(heartDisease, test_size = 0.20, random_state = 42)\n",
    "# Create the training test omitting the diagnosis\n",
    "\n",
    "training_set = train.iloc[:, train.columns != 'heartdisease']\n",
    "# Next we create the class set \n",
    "class_set = train.iloc[:, train.columns == 'heartdisease']\n",
    "\n",
    "# Next we create the test set doing the same process as the training set\n",
    "test_set = test.iloc[:, test.columns != 'heartdisease']\n",
    "test_class_set = test.iloc[:, test.columns == 'heartdisease']"
   ]
  },
  {
   "cell_type": "code",
   "execution_count": 20,
   "metadata": {},
   "outputs": [
    {
     "data": {
      "text/plain": [
       "0.956140350877193"
      ]
     },
     "execution_count": 20,
     "metadata": {},
     "output_type": "execute_result"
    }
   ],
   "source": [
    "dt = tree.DecisionTreeClassifier()\n",
    "dt = dt.fit(train[['age', 'sex', 'cp','trestbps','chol','fbs','restecg','thalach','exang','oldpeak']], train['heartdisease'])\n",
    "predictions_dt = dt.predict(test[['age', 'sex', 'cp','trestbps','chol','fbs','restecg','thalach','exang','oldpeak']])\n",
    "predictright = 0\n",
    "predictions_dt.shape[0]\n",
    "for i in range(0,predictions_dt.shape[0]-1):\n",
    "    if (predictions_dt[i]== test.iloc[i][10]):\n",
    "        predictright +=1\n",
    "accuracy = predictright/predictions_dt.shape[0]\n",
    "accuracy"
   ]
  },
  {
   "cell_type": "code",
   "execution_count": 21,
   "metadata": {},
   "outputs": [
    {
     "name": "stdout",
     "output_type": "stream",
     "text": [
      "Table comparing actual vs. predicted values for our test set:\n",
      " Actual Values      0   1\n",
      "Predicted Values        \n",
      "0                 64   4\n",
      "1                  0  46\n"
     ]
    }
   ],
   "source": [
    "print(\"Table comparing actual vs. predicted values for our test set:\\n\",\n",
    "     pd.crosstab(predictions_dt, test_class_set['heartdisease'], \n",
    "                  rownames=['Predicted Values'], \n",
    "                  colnames=['Actual Values']))"
   ]
  },
  {
   "cell_type": "code",
   "execution_count": 22,
   "metadata": {},
   "outputs": [],
   "source": [
    "#ROC curve calculation \n",
    "fpr2, tpr2, _ = roc_curve(predictions_dt, test_class_set)\n",
    "\n",
    "#AUC curve calcuation\n",
    "auc_dt = auc(fpr2, tpr2)"
   ]
  },
  {
   "cell_type": "code",
   "execution_count": 25,
   "metadata": {},
   "outputs": [
    {
     "data": {
      "text/plain": [
       "RandomForestClassifier(bootstrap=True, class_weight=None, criterion='gini',\n",
       "            max_depth=None, max_features=5, max_leaf_nodes=None,\n",
       "            min_impurity_decrease=0.0, min_impurity_split=None,\n",
       "            min_samples_leaf=1, min_samples_split=2,\n",
       "            min_weight_fraction_leaf=0.0, n_estimators=500, n_jobs=1,\n",
       "            oob_score=False, random_state=42, verbose=0, warm_start=False)"
      ]
     },
     "execution_count": 25,
     "metadata": {},
     "output_type": "execute_result"
    }
   ],
   "source": [
    "fitRF = RandomForestClassifier(random_state = 42, \n",
    "                                criterion='gini',\n",
    "                                n_estimators = 500,\n",
    "                                max_features = 5)\n",
    "fitRF.fit(training_set, class_set['heartdisease'])"
   ]
  },
  {
   "cell_type": "code",
   "execution_count": 26,
   "metadata": {},
   "outputs": [
    {
     "data": {
      "text/plain": [
       "array([2, 8, 9, 4, 7, 0, 3, 1, 6, 5], dtype=int64)"
      ]
     },
     "execution_count": 26,
     "metadata": {},
     "output_type": "execute_result"
    }
   ],
   "source": [
    "importancesRF = fitRF.feature_importances_\n",
    "indicesRF = np.argsort(importancesRF)[::-1]\n",
    "indicesRF"
   ]
  },
  {
   "cell_type": "code",
   "execution_count": 27,
   "metadata": {},
   "outputs": [
    {
     "name": "stdout",
     "output_type": "stream",
     "text": [
      "Feature ranking:\n",
      "1. The feature 'cp' has a Gini Importance of 0.195424\n",
      "2. The feature 'exang' has a Gini Importance of 0.165684\n",
      "3. The feature 'oldpeak' has a Gini Importance of 0.152049\n",
      "4. The feature 'chol' has a Gini Importance of 0.143879\n",
      "5. The feature 'thalach' has a Gini Importance of 0.118047\n",
      "6. The feature 'age' has a Gini Importance of 0.083195\n",
      "7. The feature 'trestbps' has a Gini Importance of 0.072504\n",
      "8. The feature 'sex' has a Gini Importance of 0.035457\n",
      "9. The feature 'restecg' has a Gini Importance of 0.020557\n",
      "10. The feature 'fbs' has a Gini Importance of 0.013205\n"
     ]
    }
   ],
   "source": [
    "namesInd = names[:11]\n",
    "print(\"Feature ranking:\")\n",
    "\n",
    "for f in range(10):\n",
    "    i = f\n",
    "    print(\"%d. The feature '%s' has a Gini Importance of %f\" % (f + 1, \n",
    "                                                                namesInd[indicesRF[i]], \n",
    "                                                                importancesRF[indicesRF[f]]))"
   ]
  },
  {
   "cell_type": "code",
   "execution_count": 28,
   "metadata": {},
   "outputs": [],
   "source": [
    "feature_space = []\n",
    "for i in range(9, -1, -1):\n",
    "    feature_space.append(namesInd[indicesRF[i]])"
   ]
  },
  {
   "cell_type": "code",
   "execution_count": 30,
   "metadata": {},
   "outputs": [
    {
     "data": {
      "image/png": "[encoded data removed]",
      "text/plain": [
       "<Figure size 792x792 with 1 Axes>"
      ]
     },
     "metadata": {},
     "output_type": "display_data"
    }
   ],
   "source": [
    "indRf = sorted(importancesRF) #sort into decreasing order \n",
    "index = np.arange(10) #arrange the importance\n",
    "\n",
    "f, ax = plt.subplots(figsize=(11, 11))\n",
    "\n",
    "plt.title('Feature importances for Random Forest Model')\n",
    "plt.barh(index, indRf,\n",
    "        align=\"center\", \n",
    "        color = '#875FDB')\n",
    "plt.yticks(index, ('cp', 'exang', 'oldpeak', 'chol', 'thalach', 'age', 'trestbps', 'sex', 'restecg', 'fbs'))\n",
    "plt.ylim(-1, 10)\n",
    "plt.xlim(0, 0.15)\n",
    "plt.xlabel('Gini Importance')\n",
    "plt.ylabel('Feature')\n",
    "\n",
    "plt.show()"
   ]
  },
  {
   "cell_type": "code",
   "execution_count": 32,
   "metadata": {},
   "outputs": [
    {
     "name": "stdout",
     "output_type": "stream",
     "text": [
      "Actual Values      0   1\n",
      "Predicted Values        \n",
      "0                 64   4\n",
      "1                  0  46\n"
     ]
    }
   ],
   "source": [
    "predictions_RF = fitRF.predict(test_set)\n",
    "print(pd.crosstab(predictions_RF, test_class_set['heartdisease'], \n",
    "                  rownames=['Predicted Values'], \n",
    "                  colnames=['Actual Values']))"
   ]
  },
  {
   "cell_type": "code",
   "execution_count": 33,
   "metadata": {},
   "outputs": [
    {
     "name": "stdout",
     "output_type": "stream",
     "text": [
      "Here is our mean accuracy on the test set:\n",
      " 96.491 %\n"
     ]
    }
   ],
   "source": [
    "accuracy_RF = fitRF.score(test_set, test_class_set['heartdisease'])\n",
    "\n",
    "print(\"Here is our mean accuracy on the test set:\\n\",\n",
    "     '%.3f' % (accuracy_RF * 100), '%')"
   ]
  },
  {
   "cell_type": "code",
   "execution_count": 34,
   "metadata": {},
   "outputs": [
    {
     "name": "stdout",
     "output_type": "stream",
     "text": [
      "The test error rate for our model is:\n",
      " 3.509 %\n"
     ]
    }
   ],
   "source": [
    "# Here we calculate the test error rate!\n",
    "test_error_rate_RF = 1 - accuracy_RF\n",
    "print(\"The test error rate for our model is:\\n\",\n",
    "     '%.3f' % (test_error_rate_RF * 100), '%')"
   ]
  },
  {
   "cell_type": "code",
   "execution_count": 35,
   "metadata": {},
   "outputs": [],
   "source": [
    "#ROC curve calculation\n",
    "fpr1, tpr1, _ = roc_curve(predictions_RF, test_class_set)\n",
    "#AUC curve calcuation\n",
    "auc_rf = auc(fpr1, tpr1)"
   ]
  },
  {
   "cell_type": "code",
   "execution_count": 36,
   "metadata": {},
   "outputs": [
    {
     "data": {
      "text/plain": [
       "0.7280701754385965"
      ]
     },
     "execution_count": 36,
     "metadata": {},
     "output_type": "execute_result"
    }
   ],
   "source": [
    "svmtest = svm.SVC()\n",
    "svmfit = svmtest.fit(train[['age', 'sex', 'cp','trestbps','chol','fbs','restecg','thalach','exang','oldpeak']], train['heartdisease'])\n",
    "svmPredictions = svmtest.predict(test[['age', 'sex', 'cp','trestbps','chol','fbs','restecg','thalach','exang','oldpeak']])\n",
    "predictrightsvm = 0\n",
    "for i in range(0,svmPredictions.shape[0]-1):\n",
    "    if (svmPredictions[i]== test.iloc[i][10]):\n",
    "        predictrightsvm +=1\n",
    "rightpercentsvm = predictrightsvm/svmPredictions.shape[0]\n",
    "rightpercentsvm"
   ]
  },
  {
   "cell_type": "code",
   "execution_count": 37,
   "metadata": {},
   "outputs": [
    {
     "name": "stdout",
     "output_type": "stream",
     "text": [
      "Actual Values      0   1\n",
      "Predicted Values        \n",
      "0                 54  20\n",
      "1                 10  30\n"
     ]
    }
   ],
   "source": [
    "predictions_svm = svmfit.predict(test_set)\n",
    "print(pd.crosstab(predictions_svm, test_class_set['heartdisease'], \n",
    "                  rownames=['Predicted Values'], \n",
    "                  colnames=['Actual Values']))"
   ]
  },
  {
   "cell_type": "code",
   "execution_count": 38,
   "metadata": {},
   "outputs": [],
   "source": [
    "#ROC curve calculation\n",
    "fpr4, tpr4, _ = roc_curve(predictions_svm, test_class_set)\n",
    "#AUC curve calcuation\n",
    "auc_svm = auc(fpr4, tpr4)"
   ]
  },
  {
   "cell_type": "code",
   "execution_count": 40,
   "metadata": {},
   "outputs": [
    {
     "data": {
      "text/plain": [
       "KNeighborsClassifier(algorithm='auto', leaf_size=30, metric='minkowski',\n",
       "           metric_params=None, n_jobs=1, n_neighbors=10, p=2,\n",
       "           weights='uniform')"
      ]
     },
     "execution_count": 40,
     "metadata": {},
     "output_type": "execute_result"
    }
   ],
   "source": [
    "heartDiseaseKnn = KNeighborsClassifier(n_neighbors=10)\n",
    "heartDiseaseKnn.fit(training_set, class_set['heartdisease'])"
   ]
  },
  {
   "cell_type": "code",
   "execution_count": 41,
   "metadata": {},
   "outputs": [
    {
     "name": "stdout",
     "output_type": "stream",
     "text": [
      "Actual Values       0    1\n",
      "Predicted Values          \n",
      "0                 246   69\n",
      "1                  17  122\n",
      "Here is our accuracy for our training set:\n",
      "81.057 %\n"
     ]
    }
   ],
   "source": [
    "# We predict the class for our training set\n",
    "predictionsTrain = heartDiseaseKnn.predict(training_set) \n",
    "\n",
    "# Here we create a matrix comparing the actual values vs. the predicted values\n",
    "print(pd.crosstab(predictionsTrain, class_set['heartdisease'], \n",
    "                  rownames=['Predicted Values'], colnames=['Actual Values']))\n",
    "\n",
    "# Measure the accuracy based on the trianing set\n",
    "accuracyTrain = heartDiseaseKnn.score(training_set, class_set['heartdisease'])\n",
    "\n",
    "print(\"Here is our accuracy for our training set:\")\n",
    "print('%.3f' % (accuracyTrain * 100), '%')"
   ]
  },
  {
   "cell_type": "code",
   "execution_count": 42,
   "metadata": {},
   "outputs": [
    {
     "name": "stdout",
     "output_type": "stream",
     "text": [
      "The train error rate for our model is:\n",
      "18.943 %\n"
     ]
    }
   ],
   "source": [
    "print(\"The train error rate for our model is:\")\n",
    "train_error_rate = 1 - accuracyTrain  \n",
    "print('%.3f' % (train_error_rate * 100), '%')"
   ]
  },
  {
   "cell_type": "code",
   "execution_count": 43,
   "metadata": {},
   "outputs": [
    {
     "name": "stdout",
     "output_type": "stream",
     "text": [
      "Actual Values      0   1\n",
      "Predicted Values        \n",
      "0                 55  21\n",
      "1                  9  29\n",
      "Here is our accuracy for our test set:\n",
      "73.684 %\n"
     ]
    }
   ],
   "source": [
    "# First we predict the Dx for the test set and call it predictions\n",
    "predictions = heartDiseaseKnn.predict(test_set)\n",
    "\n",
    "# Let's compare the predictions vs. the actual values\n",
    "print(pd.crosstab(predictions, test_class_set['heartdisease'], \n",
    "                  rownames=['Predicted Values'], \n",
    "                  colnames=['Actual Values']))\n",
    "\n",
    "# Let's get the accuracy of our test set\n",
    "accuracy = heartDiseaseKnn.score(test_set, test_class_set['heartdisease'])\n",
    "\n",
    "# TEST ERROR RATE!!\n",
    "print(\"Here is our accuracy for our test set:\")\n",
    "print('%.3f' % (accuracy * 100), '%')"
   ]
  },
  {
   "cell_type": "code",
   "execution_count": 44,
   "metadata": {},
   "outputs": [
    {
     "name": "stdout",
     "output_type": "stream",
     "text": [
      "Accuracy: 0.75 (+/- 0.03)\n"
     ]
    }
   ],
   "source": [
    "n = KFold(n_splits=3)\n",
    "\n",
    "scores = cross_val_score(heartDiseaseKnn, \n",
    "                         test_set, \n",
    "                         test_class_set['heartdisease'], cv = n)\n",
    "\n",
    "print(\"Accuracy: %0.2f (+/- %0.2f)\" % (scores.mean(), scores.std() / 2))"
   ]
  },
  {
   "cell_type": "code",
   "execution_count": 45,
   "metadata": {},
   "outputs": [],
   "source": [
    "fpr3, tpr3, _ = roc_curve(predictions, test_class_set)\n",
    "auc_knn = auc(fpr3, tpr3)"
   ]
  },
  {
   "cell_type": "code",
   "execution_count": 47,
   "metadata": {},
   "outputs": [
    {
     "data": {
      "image/png": "[encoded data removed]",
      "text/plain": [
       "<Figure size 720x720 with 1 Axes>"
      ]
     },
     "metadata": {},
     "output_type": "display_data"
    }
   ],
   "source": [
    "fig, ax = plt.subplots(figsize=(10, 10))\n",
    "\n",
    "plt.plot(fpr1, tpr1,label='Decision Trees ROC Curve (area = %.4f)' % auc_dt, \n",
    "         color = 'navy', \n",
    "         linewidth=2)\n",
    "plt.plot(fpr2, tpr2,label='Random Forest ROC Curve (area = %.4f)' % auc_rf, \n",
    "         color = 'red', \n",
    "         linestyle=':', \n",
    "         linewidth=2)\n",
    "plt.plot(fpr3, tpr3,label='Kth Nearest Neighbor ROC Curve (area = %.4f)' % auc_knn, \n",
    "         color = 'red', \n",
    "         linestyle=':', \n",
    "         linewidth=2)\n",
    "plt.plot(fpr4, tpr4,label='SVM ROC Curve (area = %.4f)' % auc_svm, \n",
    "         color = 'red', \n",
    "         linestyle=':', \n",
    "         linewidth=2)\n",
    "\n",
    "\n",
    "plt.plot([0, 1], [0, 1], 'k--', lw=2)\n",
    "plt.plot([0, 0], [1, 0], 'k--', lw=2, color = 'black')\n",
    "plt.plot([1, 0], [1, 1], 'k--', lw=2, color = 'black')\n",
    "plt.xlim([-0.01, 1.0])\n",
    "plt.ylim([0.0, 1.05])\n",
    "plt.xlabel('False Positive Rate')\n",
    "plt.ylabel('True Positive Rate')\n",
    "plt.title('ROC Curve Comparison For All Models')\n",
    "plt.legend(loc=\"lower right\")\n",
    "\n",
    "plt.show()"
   ]
  },
  {
   "cell_type": "code",
   "execution_count": null,
   "metadata": {},
   "outputs": [],
   "source": []
  }
 ],
 "metadata": {
  "kernelspec": {
   "display_name": "Python 3",
   "language": "python",
   "name": "python3"
  },
  "language_info": {
   "codemirror_mode": {
    "name": "ipython",
    "version": 3
   },
   "file_extension": ".py",
   "mimetype": "text/x-python",
   "name": "python",
   "nbconvert_exporter": "python",
   "pygments_lexer": "ipython3",
   "version": "3.6.5"
  }
 },
 "nbformat": 4,
 "nbformat_minor": 2
}
